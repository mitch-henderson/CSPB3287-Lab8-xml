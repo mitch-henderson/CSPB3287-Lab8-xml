{
 "cells": [
  {
   "cell_type": "markdown",
   "metadata": {},
   "source": [
    "# Lab-8- XML Queries In Python\n",
    "## CSCI 3287 <IMG SRC=\"https://www.colorado.edu/cs/profiles/express/themes/cuspirit/logo.png\" WIDTH=50 ALIGN=\"right\">"
   ]
  },
  {
   "cell_type": "markdown",
   "metadata": {},
   "source": [
    "### Enter your name here: Mitch Henderson\n",
    "#### Name: Mitch Henderson\n",
    "#### Identikey: mihe2568\n",
    "#### Hours 12"
   ]
  },
  {
   "cell_type": "markdown",
   "metadata": {},
   "source": [
    "If you haven't already reviewed the LXML tutorial and played with the LXML notebook, you're encouraged to do so.\n",
    "\n",
    "We're going to use to [lxml](https://lxml.de/) library to access and manipulate XML data. Some of this material is an adaptation of the [lxml tutorial](https://lxml.de/tutorial.html).\n",
    "\n",
    "The LXML library doesn't provide an XQuery interface, so we're going to use a tool called XQilla as a commandline interface.\n"
   ]
  },
  {
   "cell_type": "code",
   "execution_count": 43,
   "metadata": {},
   "outputs": [],
   "source": [
    "import lxml\n",
    "import lxml.etree as etree\n",
    "import lxml.html"
   ]
  },
  {
   "cell_type": "markdown",
   "metadata": {},
   "source": [
    "All of the problems (XPath, Xquery, XSLT) will use the **products** XML document below. I've created an LXML ElementTree for that document. I've also created a copy of the document in the file `/tmp/products.xml` that can be used for the XQuery exercise."
   ]
  },
  {
   "cell_type": "code",
   "execution_count": 44,
   "metadata": {},
   "outputs": [],
   "source": [
    "products_text = \"\"\"<Products>\n",
    "  <Maker name=\"A\">\n",
    "    <PC model=\"1001\" price=\"2114\">\n",
    "      <Speed>2.66</Speed>\n",
    "      <RAM>1024</RAM>\n",
    "      <HardDisk>250</HardDisk>\n",
    "    </PC>\n",
    "    <PC model=\"1002\" price=\"995\">\n",
    "      <Speed>2.10</Speed>\n",
    "      <RAM>512</RAM>\n",
    "      <HardDisk>250</HardDisk>\n",
    "    </PC>\n",
    "    <Laptop model=\"2004\" price=\"1150\">\n",
    "      <Speed>2.00</Speed>\n",
    "      <RAM>512</RAM>\n",
    "      <HardDisk>60</HardDisk>\n",
    "      <Screen>13.3</Screen>\n",
    "    </Laptop>\n",
    "    <Laptop model=\"2005\" price=\"2500\">\n",
    "      <Speed>2.16</Speed>\n",
    "      <RAM>1024</RAM>\n",
    "      <HardDisk>120</HardDisk>\n",
    "      <Screen>17.0</Screen>\n",
    "    </Laptop>\n",
    "  </Maker>\n",
    "  <Maker name=\"E\">\n",
    "    <PC model=\"1011\" price=\"959\">\n",
    "      <Speed>1.86</Speed>\n",
    "      <RAM>2048</RAM>\n",
    "      <HardDisk>160</HardDisk>\n",
    "    </PC>\n",
    "    <PC model=\"1012\" price=\"649\">\n",
    "      <Speed>2.80</Speed>\n",
    "      <RAM>1024</RAM>\n",
    "      <HardDisk>160</HardDisk>\n",
    "    </PC>\n",
    "    <Laptop model=\"2001\" price=\"3673\">\n",
    "      <Speed>2.00</Speed>\n",
    "      <RAM>2048</RAM>\n",
    "      <HardDisk>240</HardDisk>\n",
    "      <Screen>20.1</Screen>\n",
    "    </Laptop>\n",
    "    <Printer model=\"3002\" price=\"239\">\n",
    "      <Color>false</Color>\n",
    "      <Type>laser</Type>\n",
    "    </Printer>\n",
    "  </Maker>\n",
    "  <Maker name=\"H\">\n",
    "    <Printer model=\"3006\" price=\"100\">\n",
    "      <Color>true</Color>\n",
    "      <Type>ink-jet</Type>\n",
    "    </Printer>\n",
    "    <Printer model=\"3007\" price=\"200\">\n",
    "      <Color>true</Color>\n",
    "      <Type>laser</Type>\n",
    "    </Printer>\n",
    "  </Maker>\n",
    "</Products>\n",
    "\"\"\""
   ]
  },
  {
   "cell_type": "code",
   "execution_count": 45,
   "metadata": {},
   "outputs": [],
   "source": [
    "products = etree.XML(products_text)\n",
    "\n",
    "with open(\"products.xml\",\"w\") as f:\n",
    "    f.write(products_text)"
   ]
  },
  {
   "cell_type": "markdown",
   "metadata": {},
   "source": [
    "## 1) XPath [ 45 points total ] \n",
    "\n",
    "To do the XPath homework, you'll need to use the Product XML file."
   ]
  },
  {
   "cell_type": "markdown",
   "metadata": {},
   "source": [
    "#### 1a) Find the amount of RAM on each PC [ 5 pts ]\n",
    "\n",
    "Your output should look like `['1024', '512', '2048', '1024']`"
   ]
  },
  {
   "cell_type": "code",
   "execution_count": 46,
   "metadata": {},
   "outputs": [
    {
     "data": {
      "text/plain": [
       "['1024', '512', '2048', '1024']"
      ]
     },
     "execution_count": 46,
     "metadata": {},
     "output_type": "execute_result"
    }
   ],
   "source": [
    "### BEGIN SOLUTION\n",
    "# // means any descendant of the current node\n",
    "# in this case we are looking for any PC's\n",
    "# text() extracts the text node from RAM element\n",
    "products.xpath('//PC//RAM/text()')\n",
    "### END SOLUTION"
   ]
  },
  {
   "cell_type": "markdown",
   "metadata": {},
   "source": [
    "#### 1b) Find the price of each product of any kind. [ 5 pts ]\n",
    "\n",
    "Your solution doesn't need to restrict itself to a PC or Printer -- it should report the price of *any* product."
   ]
  },
  {
   "cell_type": "code",
   "execution_count": 47,
   "metadata": {},
   "outputs": [
    {
     "data": {
      "text/plain": [
       "['2114', '995', '1150', '2500', '959', '649', '3673', '239', '100', '200']"
      ]
     },
     "execution_count": 47,
     "metadata": {},
     "output_type": "execute_result"
    }
   ],
   "source": [
    "### BEGIN SOLUTION\n",
    "# // says any descendant of an element\n",
    "# in this case we are returning the price of any element that\n",
    "# has price as an attribute\n",
    "products.xpath('//@price')\n",
    "### END SOLUTION"
   ]
  },
  {
   "cell_type": "markdown",
   "metadata": {},
   "source": [
    "#### 1c) Find the text of all the printer elements. [5 pts ]\n",
    "\n",
    "This should reduce the text of each element within a **Printer** element (e.g. 'false', 'laser', *etc*)"
   ]
  },
  {
   "cell_type": "code",
   "execution_count": 48,
   "metadata": {},
   "outputs": [
    {
     "data": {
      "text/plain": [
       "['false', 'laser', 'true', 'ink-jet', 'true', 'laser']"
      ]
     },
     "execution_count": 48,
     "metadata": {},
     "output_type": "execute_result"
    }
   ],
   "source": [
    "### BEGIN SOLUTION\n",
    "# // any descendant \n",
    "# Printer some printer descendant\n",
    "# /*/ any child element of Printer\n",
    "# return the text() node of that element\n",
    "products.xpath(\"//Printer/*/text()\")\n",
    "### END SOLUTION"
   ]
  },
  {
   "cell_type": "markdown",
   "metadata": {},
   "source": [
    "#### 1d) Find the makers of laser printers. [ 5 pts ]\n",
    "\n",
    "There are two makers of printers, 'E' and 'H'"
   ]
  },
  {
   "cell_type": "code",
   "execution_count": 49,
   "metadata": {},
   "outputs": [
    {
     "data": {
      "text/plain": [
       "['E', 'H']"
      ]
     },
     "execution_count": 49,
     "metadata": {},
     "output_type": "execute_result"
    }
   ],
   "source": [
    "### BEGIN SOLUTION\n",
    "# // any descendant\n",
    "# that is a Printer element\n",
    "# look for the parent of the Printer node -> this should be a maker\n",
    "# return the maker's name attribute\n",
    "products.xpath('//Printer/parent::node()/@name')\n",
    "### END SOLUTION"
   ]
  },
  {
   "cell_type": "markdown",
   "metadata": {},
   "source": [
    "#### 1e) Find the makers of PC’s and/or laptops. [ 5 pts ]\n",
    "\n",
    "There are two makers of PC and Laptops. Although your query could check for just one of PC or Laptop and be correct, you must construct your query to work even if one Maker only makes one or the other kind of product."
   ]
  },
  {
   "cell_type": "code",
   "execution_count": 50,
   "metadata": {},
   "outputs": [
    {
     "data": {
      "text/plain": [
       "['A', 'E', 'H']"
      ]
     },
     "execution_count": 50,
     "metadata": {},
     "output_type": "execute_result"
    }
   ],
   "source": [
    "### BEGIN SOLUTION\n",
    "# // descendant\n",
    "# of Printer or Laptop\n",
    "# Get the parent of a Printer or a Laptop\n",
    "# This should be a Maker\n",
    "# Then return the name attribute of the Maker\n",
    "products.xpath('(//Printer | //Laptop)/parent::node()/@name')\n",
    "### END SOLUTION"
   ]
  },
  {
   "cell_type": "markdown",
   "metadata": {},
   "source": [
    "#### 1f) Find the model numbers of PC’s with a hard disk of at least 200 gigabytes [ 10 pts ]"
   ]
  },
  {
   "cell_type": "code",
   "execution_count": 51,
   "metadata": {},
   "outputs": [
    {
     "data": {
      "text/plain": [
       "['1001', '1002']"
      ]
     },
     "execution_count": 51,
     "metadata": {},
     "output_type": "execute_result"
    }
   ],
   "source": [
    "### BEGIN SOLUTION\n",
    "# // descendant\n",
    "# For PC element\n",
    "# Its HardDisk child\n",
    "# [] with the condition\n",
    "# That its text node is greater than 200\n",
    "# Going back to the parent -> which should be the HardDisk\n",
    "# and the model attribute for that PC\n",
    "products.xpath('//PC/HardDisk[text() >= 200]/parent::node()/@model')\n",
    "### END SOLUTION"
   ]
  },
  {
   "cell_type": "markdown",
   "metadata": {},
   "source": [
    "#### 1g) Find the makers that make at least two PC's [ 10 pts ]\n",
    "\n",
    "This means that there are two PC's that are *siblings* in the element tree."
   ]
  },
  {
   "cell_type": "code",
   "execution_count": 52,
   "metadata": {},
   "outputs": [
    {
     "data": {
      "text/plain": [
       "['A', 'E']"
      ]
     },
     "execution_count": 52,
     "metadata": {},
     "output_type": "execute_result"
    }
   ],
   "source": [
    "### BEGIN SOLUTION\n",
    "# // descendant\n",
    "# a Make node\n",
    "# with a condition []\n",
    "# such that there are at least two PC children, and get the Maker's name attribute\n",
    "products.xpath('//Maker[count(PC)>=2]/@name')\n",
    "### END SOLUTION"
   ]
  },
  {
   "cell_type": "markdown",
   "metadata": {},
   "source": [
    "## XQuery [ 45 Pts Total ]\n",
    "\n",
    "As mentioned, we need a completely different library and interface for XQuery and the [Python Binding for that library](https://pypi.org/project/python-simplexquery/) is not very robust.\n",
    "\n",
    "So, we're using to use the command line tool \"[xqilla](http://xqilla.sourceforge.net/HomePage)\" to run our queries.\n",
    "\n",
    "Let's use an [XQuery tutorial](https://www.w3schools.com/xml/xquery_intro.asp) that appears at the W3Schools website. That tutorial uses a **books.xml** dataset. As before, we'll include here as a string so you can see dataset."
   ]
  },
  {
   "cell_type": "markdown",
   "metadata": {},
   "source": [
    "#### 2a) Find the Printers models with a price less than 1000. [ 5 pts ]\n",
    "\n",
    "Your output should look like `['3002', '3006', '3007']`"
   ]
  },
  {
   "cell_type": "code",
   "execution_count": 53,
   "metadata": {},
   "outputs": [
    {
     "data": {
      "text/plain": [
       "['3002', '3006', '3007']"
      ]
     },
     "execution_count": 53,
     "metadata": {},
     "output_type": "execute_result"
    }
   ],
   "source": [
    "### BEGIN SOLUTION\n",
    "# // descendant\n",
    "# Printer element\n",
    "# with condition [] that its price attribute is less than 1000\n",
    "# get the model attribute\n",
    "# and just the string() part of the value part of the model\n",
    "with open(\"query.xq\",\"w\") as q:\n",
    "    q.write('''//Printer[@price < 1000]/@model/string()''')\n",
    "%system xqilla -i products.xml query.xq\n",
    "\n",
    "### END SOLUTION"
   ]
  },
  {
   "cell_type": "markdown",
   "metadata": {},
   "source": [
    "#### 2b) Find the Printer...[ 5 pts ]\n",
    "\n",
    "Find the Printer elements with a price <=200, and produce the sequence of the elements of these printers surrounded by a tag `<CheapPrinters>`\n",
    "\n",
    "Your output should look like\n",
    "```\n",
    "['<CheapPrinters><Printer model=\"3006\" price=\"100\">',\n",
    " '      <Color>true</Color>',\n",
    " '      <Type>ink-jet</Type>',\n",
    " '    </Printer><Printer model=\"3007\" price=\"200\">',\n",
    " '      <Color>true</Color>',\n",
    " '      <Type>laser</Type>',\n",
    " '    </Printer></CheapPrinters>']\n",
    " ```"
   ]
  },
  {
   "cell_type": "code",
   "execution_count": 54,
   "metadata": {},
   "outputs": [
    {
     "data": {
      "text/plain": [
       "['<CheapPrinters><Printer model=\"3006\" price=\"100\">',\n",
       " '      <Color>true</Color>',\n",
       " '      <Type>ink-jet</Type>',\n",
       " '    </Printer><Printer model=\"3007\" price=\"200\">',\n",
       " '      <Color>true</Color>',\n",
       " '      <Type>laser</Type>',\n",
       " '    </Printer></CheapPrinters>']"
      ]
     },
     "execution_count": 54,
     "metadata": {},
     "output_type": "execute_result"
    }
   ],
   "source": [
    "### BEGIN SOLUTION\n",
    "# // descendant \n",
    "# Printer element\n",
    "# [] conditioned\n",
    "# price attribute <= 200\n",
    "# {} xpath containers\n",
    "# templated with <element></element>\n",
    "with open(\"query.xq\",\"w\") as q:\n",
    "    q.write('''<CheapPrinters>{//Printer[@price<=200]}</CheapPrinters>''')\n",
    "### END SOLUTION\n",
    "%system xqilla -i products.xml query.xq"
   ]
  },
  {
   "cell_type": "markdown",
   "metadata": {},
   "source": [
    "#### 2c) Find the names of the makers of both printers and laptops. [ 5 pts ]\n",
    "\n",
    "You may want to read about quantification in XQuery"
   ]
  },
  {
   "cell_type": "code",
   "execution_count": 55,
   "metadata": {},
   "outputs": [
    {
     "data": {
      "text/plain": [
       "['A', 'E', 'H']"
      ]
     },
     "execution_count": 55,
     "metadata": {},
     "output_type": "execute_result"
    }
   ],
   "source": [
    "### BEGIN SOLUTION\n",
    "# // descendants\n",
    "# Printer | Laptop : Printer of Laptop element\n",
    "# parent::node() : parent of the element\n",
    "# get parent's name attribute\n",
    "# string() extract the value part of the attribute\n",
    "# distinct-values(): only return the distinct names\n",
    "with open(\"query.xq\",\"w\") as q:\n",
    "    q.write('''distinct-values(//(Printer|Laptop)/parent::node()/@name/string())''')\n",
    "### END SOLUTION\n",
    "%system xqilla -i products.xml query.xq"
   ]
  },
  {
   "cell_type": "markdown",
   "metadata": {},
   "source": [
    "#### 2d) Find the names of the makers that produce at least two PC’s with a speed of 2.00 or more. [ 10 pts ]\n",
    "\n",
    "There's only one such maker (`A`). This problem exercises the Axes."
   ]
  },
  {
   "cell_type": "code",
   "execution_count": 56,
   "metadata": {},
   "outputs": [
    {
     "data": {
      "text/plain": [
       "['A']"
      ]
     },
     "execution_count": 56,
     "metadata": {},
     "output_type": "execute_result"
    }
   ],
   "source": [
    "### BEGIN SOLUTION\n",
    "# //Maker for each Maker descendant\n",
    "# for each $maker\n",
    "# if matching where <condition>\n",
    "# count() : count the number of elements $maker/PC\n",
    "# []: satisfying a particular condition\n",
    "#     where child element Speed has text() node value >= 2.0\n",
    "# then return the name attribute value of the $maker\n",
    "with open(\"query.xq\",\"w\") as q:\n",
    "    q.write('''for $maker in //Maker\n",
    "    where count($maker/PC[Speed/text() >= 2.0]) >= 2\n",
    "    return $maker/@name/string()''')\n",
    "### END SOLUTION\n",
    "%system xqilla -i products.xml query.xq"
   ]
  },
  {
   "cell_type": "markdown",
   "metadata": {},
   "source": [
    "#### 2e) Find the makers such that every PC they produce has a price no more than 1000. [ 10 pts ]\n",
    "\n",
    "Note that a maker that does not make PC's might statisfy a constraint that every PC make by that maker is less than $1000...."
   ]
  },
  {
   "cell_type": "code",
   "execution_count": 57,
   "metadata": {},
   "outputs": [
    {
     "data": {
      "text/plain": [
       "['E', 'H']"
      ]
     },
     "execution_count": 57,
     "metadata": {},
     "output_type": "execute_result"
    }
   ],
   "source": [
    "### BEGIN SOLUTION\n",
    "# loop over Maker elements\n",
    "# where <condition> is satisfied\n",
    "# count() : count of $maker/PC elements\n",
    "# [] : with condition matching the PC's price attribute value <= 1000\n",
    "# if that count() = count(all PC) : in other words, if $maker's every PC satisfies the [] condition\n",
    "# then return the name attribute of the $maker\n",
    "# string() : pulls out the value of the attribute\n",
    "with open(\"query.xq\",\"w\") as q:\n",
    "    q.write('''for $maker in //Maker\n",
    "    where count($maker/PC[@price <= 1000]) = count($maker/PC)\n",
    "    return $maker/@name/string()''')\n",
    "\n",
    "### END SOLUTION\n",
    "%system xqilla -i products.xml query.xq"
   ]
  },
  {
   "cell_type": "markdown",
   "metadata": {},
   "source": [
    "#### 2f) Produce a sequence of elements of the form.. [ 10 pts ]\n",
    "\n",
    "`<Laptop> <Model>x</Model> <Maker>y</Maker> </Laptop>`\n",
    "where x is the model number and y is the name of the maker of the laptop.\n",
    "\n",
    "Your output should look like\n",
    "```\n",
    "['<Laptop><Model>2004</Model><Maker>A</Maker></Laptop>',\n",
    " '<Laptop><Model>2005</Model><Maker>A</Maker></Laptop>',\n",
    " '<Laptop><Model>2001</Model><Maker>E</Maker></Laptop>']\n",
    "```"
   ]
  },
  {
   "cell_type": "code",
   "execution_count": 58,
   "metadata": {},
   "outputs": [
    {
     "data": {
      "text/plain": [
       "['<Laptop><Model>2004</Model><Maker>A</Maker></Laptop>',\n",
       " '<Laptop><Model>2005</Model><Maker>A</Maker></Laptop>',\n",
       " '<Laptop><Model>2001</Model><Maker>E</Maker></Laptop>']"
      ]
     },
     "execution_count": 58,
     "metadata": {},
     "output_type": "execute_result"
    }
   ],
   "source": [
    "### BEGIN SOLUTION\n",
    "# for each //Laptop : laptop descendant\n",
    "# return template with <Laptop> element (top)\n",
    "# having the child elements <Model> and <Maker>\n",
    "# we pull the model name attribute with @model/string()\n",
    "# and the maker'sname by traversing up to the parent::node()\n",
    "# and retrieving the parent's name attribute with @name/string()\n",
    "with open(\"query.xq\",\"w\") as q:\n",
    "    q.write('''\n",
    "    for $laptop in //Laptop\n",
    "        return <Laptop><Model>{$laptop/@model/string()}</Model><Maker>{$laptop/parent::node()/@name/string()}</Maker></Laptop>\n",
    "''')\n",
    "### END SOLUTION\n",
    "%system xqilla -i products.xml query.xq"
   ]
  },
  {
   "cell_type": "markdown",
   "metadata": {},
   "source": [
    "## XSLT [ 10 pts total ]\n",
    "\n",
    "You'll use LXML to perform the XSLT transformations. Most of the problems will ask you to present e.g. an HTML table. Rather than just look at the HTML, we'll use some Jupyter notebook tricks to enable us to display formatted HTML."
   ]
  },
  {
   "cell_type": "code",
   "execution_count": 59,
   "metadata": {},
   "outputs": [
    {
     "name": "stderr",
     "output_type": "stream",
     "text": [
      "/tmp/ipykernel_151/2058709175.py:1: DeprecationWarning: Importing display from IPython.core.display is deprecated since IPython 7.14, please import from IPython display\n",
      "  from IPython.core.display import display, HTML\n"
     ]
    }
   ],
   "source": [
    "from IPython.core.display import display, HTML"
   ]
  },
  {
   "cell_type": "code",
   "execution_count": 60,
   "metadata": {},
   "outputs": [
    {
     "data": {
      "text/html": [
       "<table> \n",
       "             <tr> <th> A Table </th> <th> w/2 headers </th> </tr>\n",
       "             <tr> <td> Some Data </td> <td> More Data </td> </tr>\n",
       "             </table>"
      ],
      "text/plain": [
       "<IPython.core.display.HTML object>"
      ]
     },
     "metadata": {},
     "output_type": "display_data"
    }
   ],
   "source": [
    "table_data = '''<table> \n",
    "             <tr> <th> A Table </th> <th> w/2 headers </th> </tr>\n",
    "             <tr> <td> Some Data </td> <td> More Data </td> </tr>\n",
    "             </table>'''\n",
    "display(HTML(table_data))"
   ]
  },
  {
   "cell_type": "markdown",
   "metadata": {},
   "source": [
    "### 3a) An HTML Table [ 5 pts ]\n",
    "\n",
    "The table should have a header “Manufacturers” followed by an enumerated list of the names of all the makers of products listed in the input."
   ]
  },
  {
   "cell_type": "code",
   "execution_count": 61,
   "metadata": {},
   "outputs": [
    {
     "data": {
      "text/html": [
       "<table><tr><th>Manufacturers</th></tr><tr><td>A</td></tr><tr><td>E</td></tr><tr><td>H</td></tr></table>"
      ],
      "text/plain": [
       "<IPython.core.display.HTML object>"
      ]
     },
     "metadata": {},
     "output_type": "display_data"
    }
   ],
   "source": [
    "### BEGIN SOLUTION\n",
    "### Your code here\n",
    "# The <template> element will generate elements that will be inserted\n",
    "# into the DOM\n",
    "#\n",
    "# It can take a matching xpath, in this case we take /Product element\n",
    "#\n",
    "#Inside the template we use a for-each element\n",
    "# which will select each Maker child of products\n",
    "# and take the value-of the Maker's name attribute\n",
    "\n",
    "p3a_xslt = etree.XML('''\n",
    "<xsl:stylesheet xmlns:xsl=\"http://www.w3.org/1999/XSL/Transform\">\n",
    "<xsl:output method=\"text\"/>\n",
    "<xsl:template match=\"/Products\">\n",
    "<table>\n",
    "<tr><th>Manufacturers</th></tr>\n",
    "<xsl:for-each select=\"Maker\">\n",
    "<tr><td><xsl:value-of select=\"@name\"/></td></tr>\n",
    "</xsl:for-each>\n",
    "</table>\n",
    "</xsl:template>\n",
    "</xsl:stylesheet>\n",
    "''')\n",
    "### END SOLUTION\n",
    "p3a_xform = etree.XSLT(p3a_xslt)\n",
    "p3a_out=p3a_xform(products)\n",
    "\n",
    "#print(\"Output is\", etree.tostring(p3a_out, encoding=str))\n",
    "display(HTML(etree.tostring(p3a_out, encoding=str)))"
   ]
  },
  {
   "cell_type": "markdown",
   "metadata": {},
   "source": [
    "### 3b) An HTML table [ 5 pts ]\n",
    "\n",
    "The table should include a row labeled Laptops, then print the model and price for each laptop. After that, it should print a row labeled PC and the model and price for each.\n",
    "\n",
    "Your output should look like the following, but in HTML.\n",
    "\n",
    "```\n",
    "Laptops\n",
    "Model\tPrice\n",
    "2004\t1150\n",
    "2005\t2500\n",
    "2001\t3673\n",
    "PC\n",
    "Model\tPrice\n",
    "1001\t2114\n",
    "1002\t995\n",
    "1011\t959\n",
    "1012\t649\n",
    "```\n"
   ]
  },
  {
   "cell_type": "code",
   "execution_count": 62,
   "metadata": {},
   "outputs": [
    {
     "data": {
      "text/html": [
       "<table><tr><td align=\"left\">Laptops</td></tr><tr><td><table><tr><th>Model</th><th>Price</th></tr><tr><td>2004</td><td>1150</td></tr><tr><td>2005</td><td>2500</td></tr><tr><td>2001</td><td>3673</td></tr></table></td></tr><tr><td align=\"left\">PC</td></tr><tr><td><table><tr><th>Model</th><th>Price</th></tr><tr><td>1001</td><td>2114</td></tr><tr><td>1002</td><td>995</td></tr><tr><td>1011</td><td>959</td></tr><tr><td>1012</td><td>649</td></tr></table></td></tr></table>"
      ],
      "text/plain": [
       "<IPython.core.display.HTML object>"
      ]
     },
     "metadata": {},
     "output_type": "display_data"
    }
   ],
   "source": [
    "### BEGIN SOLUTION\n",
    "# I create a template matching on products\n",
    "# Then I for-each on each Maker/Laptop\n",
    "# I take the value-of the model attribute of the selected laptop\n",
    "# And the value-of the price attribute of the selected Laptop\n",
    "# I do the same for the Maker/Printer\n",
    "p3b_xslt = etree.XML('''\\\n",
    "<xsl:stylesheet xmlns:xsl = \"http://www.w3.org/1999/XSL/Transform\">\n",
    "<xsl:output method=\"text\"/>\n",
    "<xsl:template match=\"/Products\">\n",
    "<table>\n",
    "<tr><td align=\"left\">Laptops</td></tr>\n",
    "<tr><td>\n",
    "    <table>\n",
    "        <tr><th>Model</th><th>Price</th></tr>\n",
    "        <xsl:for-each select=\"Maker/Laptop\">\n",
    "        <tr>\n",
    "            <td><xsl:value-of select=\"@model\"/></td>\n",
    "            <td><xsl:value-of select=\"@price\"/></td>\n",
    "        </tr>\n",
    "        </xsl:for-each>\n",
    "    </table>\n",
    "</td></tr>\n",
    "<tr><td align=\"left\">PC</td></tr>\n",
    "<tr><td>\n",
    "    <table>\n",
    "        <tr><th>Model</th><th>Price</th></tr>\n",
    "        <xsl:for-each select=\"Maker/PC\">\n",
    "        <tr>\n",
    "            <td><xsl:value-of select=\"@model\"/></td>\n",
    "            <td><xsl:value-of select=\"@price\"/></td>\n",
    "        </tr>\n",
    "        </xsl:for-each>\n",
    "    </table>\n",
    "</td></tr>\n",
    "</table>\n",
    "</xsl:template>\n",
    "</xsl:stylesheet>\n",
    "''')\n",
    "### END SOLUTION\n",
    "p3b_xform = etree.XSLT(p3b_xslt)\n",
    "p3b_out=p3b_xform(products)\n",
    "\n",
    "#print(\"Output is\", etree.tostring(p3b_out, encoding=str))\n",
    "display(HTML(etree.tostring(p3b_out, encoding=str)))"
   ]
  },
  {
   "cell_type": "code",
   "execution_count": null,
   "metadata": {},
   "outputs": [],
   "source": []
  }
 ],
 "metadata": {
  "kernelspec": {
   "display_name": "Python 3 (ipykernel)",
   "language": "python",
   "name": "python3"
  },
  "language_info": {
   "codemirror_mode": {
    "name": "ipython",
    "version": 3
   },
   "file_extension": ".py",
   "mimetype": "text/x-python",
   "name": "python",
   "nbconvert_exporter": "python",
   "pygments_lexer": "ipython3",
   "version": "3.10.8"
  }
 },
 "nbformat": 4,
 "nbformat_minor": 4
}
